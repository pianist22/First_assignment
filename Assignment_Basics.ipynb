{
 "cells": [
  {
   "cell_type": "markdown",
   "id": "71f61ca4-7eb7-4961-839d-1e5d20684bae",
   "metadata": {},
   "source": [
    "# Assignment -1"
   ]
  },
  {
   "cell_type": "markdown",
   "id": "a7e25d9a-1b0d-49c3-a671-3593c9f6deb1",
   "metadata": {},
   "source": [
    "### Questions:"
   ]
  },
  {
   "cell_type": "markdown",
   "id": "87b247f3-4557-4f0c-bed4-6db7ee2b4c15",
   "metadata": {},
   "source": [
    "##### 1. Explain the features of Python that makes it a popular programming language"
   ]
  },
  {
   "cell_type": "code",
   "execution_count": null,
   "id": "761583f6-e1d7-4c2e-8c1b-15529b39a8a4",
   "metadata": {
    "tags": []
   },
   "outputs": [],
   "source": [
    "# Features of Python that makes it easier programming language:\n",
    "# 1. Ease to use and learn.\n",
    "# 2. General Purpose Language.\n",
    "# 3. It is used in front-end, Backend, Data Science and Data Analytics and many more.\n",
    "# 4. It has large number of libraries (app. 137000+).\n",
    "# 5. Large Active Community.\n",
    "# 6. It rules the Data Science Industry."
   ]
  },
  {
   "cell_type": "markdown",
   "id": "728ccd38-be1f-4843-a676-c95bcd147005",
   "metadata": {},
   "source": [
    "##### 2. Describe the roles of predefined Keywords in python and provide examples how they are used in the program?"
   ]
  },
  {
   "cell_type": "code",
   "execution_count": 1,
   "id": "e63caefe-bdd9-4d85-acac-44d325449709",
   "metadata": {},
   "outputs": [
    {
     "name": "stdout",
     "output_type": "stream",
     "text": [
      "You are eligible to vote\n"
     ]
    }
   ],
   "source": [
    "# Keywords: Keywords are the predefined words in python that holds a special meaning in python and have a\n",
    "#special purpose to serve and their usage is already known to the python interperter\n",
    "# Examples : if, else , for, while , int , float ,bool etc.\n",
    "# we cannot use these keywords as the name of the variables.\n",
    "\n",
    "# For Example : Here if and else  are  keywords whose use is fixed: they are used as conditionals statement in python \n",
    "age = 18\n",
    "if age >= 18:\n",
    "    print(\"You are eligible to vote\")\n",
    "else:\n",
    "    print(\"You are not eligible to vote\")\n"
   ]
  },
  {
   "cell_type": "markdown",
   "id": "d3b1de17-49a4-471a-a8bb-f43be8640f92",
   "metadata": {},
   "source": [
    "##### 3.Compare and contrast mutable and immutable objects in python with example?"
   ]
  },
  {
   "cell_type": "code",
   "execution_count": 2,
   "id": "de460a1a-a35b-47ee-850d-79736c7f7b0e",
   "metadata": {},
   "outputs": [
    {
     "data": {
      "text/plain": [
       "[1, 2, 'Robin', 'Saha']"
      ]
     },
     "execution_count": 2,
     "metadata": {},
     "output_type": "execute_result"
    }
   ],
   "source": [
    "# Mutable and Immmutable Objects in python :\n",
    "# Mutable Objects: The objects/ containers whose state/value can be changed once they are created are called\n",
    "# Mutable Objects. The Property of Mutability is also known as Item Assignment.\n",
    "# For Example: List is Mutable Object.\n",
    "l = [1,2,\"Priyanshu\",\"Saha\"]\n",
    "l[2] = \"Robin\" # their value can be changed\n",
    "l"
   ]
  },
  {
   "cell_type": "code",
   "execution_count": 3,
   "id": "5ceea73b-b6b3-41ca-96a5-3be5f1f8240f",
   "metadata": {},
   "outputs": [
    {
     "ename": "TypeError",
     "evalue": "'str' object does not support item assignment",
     "output_type": "error",
     "traceback": [
      "\u001b[0;31m---------------------------------------------------------------------------\u001b[0m",
      "\u001b[0;31mTypeError\u001b[0m                                 Traceback (most recent call last)",
      "Cell \u001b[0;32mIn[3], line 5\u001b[0m\n\u001b[1;32m      1\u001b[0m \u001b[38;5;66;03m# Immutable Objects: The objects/ containers whose state/value cannot be be changed once they are created \u001b[39;00m\n\u001b[1;32m      2\u001b[0m \u001b[38;5;66;03m# are called Immutable Objects.\u001b[39;00m\n\u001b[1;32m      3\u001b[0m \u001b[38;5;66;03m# For Example : String is Immutable Object.\u001b[39;00m\n\u001b[1;32m      4\u001b[0m name \u001b[38;5;241m=\u001b[39m \u001b[38;5;124m\"\u001b[39m\u001b[38;5;124mPriyanshu\u001b[39m\u001b[38;5;124m\"\u001b[39m\n\u001b[0;32m----> 5\u001b[0m \u001b[43mname\u001b[49m\u001b[43m[\u001b[49m\u001b[38;5;241;43m3\u001b[39;49m\u001b[43m]\u001b[49m \u001b[38;5;241m=\u001b[39m \u001b[38;5;124m'\u001b[39m\u001b[38;5;124mg\u001b[39m\u001b[38;5;124m'\u001b[39m\n",
      "\u001b[0;31mTypeError\u001b[0m: 'str' object does not support item assignment"
     ]
    }
   ],
   "source": [
    "# Immutable Objects: The objects/ containers whose state/value cannot be be changed once they are created \n",
    "# are called Immutable Objects.\n",
    "# For Example : String is Immutable Object.\n",
    "name = \"Priyanshu\"\n",
    "name[3] = 'g' # here string value at any index cannot be changed."
   ]
  },
  {
   "cell_type": "markdown",
   "id": "711dae1f-1a02-4745-b10d-025cef75ef72",
   "metadata": {},
   "source": [
    "##### 4. Discuss different types of operators in python and provide examples of  how they are used?"
   ]
  },
  {
   "cell_type": "code",
   "execution_count": 5,
   "id": "5b84c9a1-3a65-4cc7-834f-2be6b9995477",
   "metadata": {},
   "outputs": [
    {
     "data": {
      "text/plain": [
       "15"
      ]
     },
     "execution_count": 5,
     "metadata": {},
     "output_type": "execute_result"
    }
   ],
   "source": [
    "# Python has large Variety of operators: \n",
    "# Arithmetic Operator : used to perform mathematical operations.\n",
    "# Assignment Operator : used to provide assignment to the variables.\n",
    "# Comparision Operator : used to compare two values and return the result in boolean format.\n",
    "# Membership Operator: used to check that whether a given Sub-Object or value is a member of any ojects or value\n",
    "# Identity Operator : used to check the refernces of two variables or objects.\n",
    "# Bitwise Operator : used to perform Bitwise Operatoions by manipulating the  individual bits.\n",
    "# Logical Operator : used to combine conditionals statements and produce boolean result.\n",
    "\n",
    "# Examples:\n",
    "a = 10 \n",
    "b = 5\n",
    "c = a + b # Additon \n",
    "c"
   ]
  },
  {
   "cell_type": "code",
   "execution_count": 6,
   "id": "786fa1d8-25d0-47fe-b3ec-eb38ea8b26de",
   "metadata": {},
   "outputs": [
    {
     "data": {
      "text/plain": [
       "True"
      ]
     },
     "execution_count": 6,
     "metadata": {},
     "output_type": "execute_result"
    }
   ],
   "source": [
    "a >= b #Comparision "
   ]
  },
  {
   "cell_type": "code",
   "execution_count": 7,
   "id": "59402107-5326-4423-adba-2c7b6bac8468",
   "metadata": {},
   "outputs": [
    {
     "data": {
      "text/plain": [
       "True"
      ]
     },
     "execution_count": 7,
     "metadata": {},
     "output_type": "execute_result"
    }
   ],
   "source": [
    "name = \"Priyanshu\"\n",
    "\"riya\" in name # membership "
   ]
  },
  {
   "cell_type": "markdown",
   "id": "8a320530-5586-4dc4-9864-c2acdd201895",
   "metadata": {},
   "source": [
    "##### 5. Explain the concept of type casting with example?"
   ]
  },
  {
   "cell_type": "code",
   "execution_count": 9,
   "id": "6b34a6b8-c9b6-4f35-a2d3-c07ddd9de9a8",
   "metadata": {},
   "outputs": [
    {
     "data": {
      "text/plain": [
       "5"
      ]
     },
     "execution_count": 9,
     "metadata": {},
     "output_type": "execute_result"
    }
   ],
   "source": [
    "# Type Casting : also known as type conversion is the process of conversion of variables of one data type to \n",
    "# another data type like conversion of float to integer and many more.\n",
    "\n",
    "# Examples:\n",
    "# Conversion of String containing a numerical value to integer:\n",
    "a = \"5\"\n",
    "a = int(a)\n",
    "a"
   ]
  },
  {
   "cell_type": "code",
   "execution_count": 11,
   "id": "46d8e6b6-3693-4b43-98c6-73ac1e3cc2ef",
   "metadata": {},
   "outputs": [
    {
     "data": {
      "text/plain": [
       "5"
      ]
     },
     "execution_count": 11,
     "metadata": {},
     "output_type": "execute_result"
    }
   ],
   "source": [
    "b = 5.6\n",
    "int(b)"
   ]
  },
  {
   "cell_type": "code",
   "execution_count": 14,
   "id": "a10178f8-eb9a-44cd-a009-7cc1fee2583b",
   "metadata": {},
   "outputs": [
    {
     "data": {
      "text/plain": [
       "'10'"
      ]
     },
     "execution_count": 14,
     "metadata": {},
     "output_type": "execute_result"
    }
   ],
   "source": [
    "c = 10\n",
    "str(c)"
   ]
  },
  {
   "cell_type": "markdown",
   "id": "df53964c-bd2f-49c9-86c4-447cb972851a",
   "metadata": {},
   "source": [
    "##### 6. How do conditionals statement works in python? Illustrate with examples."
   ]
  },
  {
   "cell_type": "code",
   "execution_count": 15,
   "id": "e6d5d19e-5570-4960-84ce-8b02af918af2",
   "metadata": {},
   "outputs": [
    {
     "name": "stdout",
     "output_type": "stream",
     "text": [
      "The number is greater than 0\n"
     ]
    }
   ],
   "source": [
    "# Conditional statements in Python allow you to control the flow of your program based on certain conditions. \n",
    "# The most common ones are:\n",
    "# if statement: Executes a block of code only if a specified condition is true.\n",
    "# else statement: Executes a block of code if the condition in the preceding if statement is false.\n",
    "# elif statement: Allows you to check multiple conditions in sequence.\n",
    "\n",
    "# if Statement:\n",
    "a = 100\n",
    "if a > 0:\n",
    "    print(\"The number is greater than 0\")"
   ]
  },
  {
   "cell_type": "code",
   "execution_count": 16,
   "id": "6dd7d71e-f14c-4040-aa9d-917884a71c95",
   "metadata": {
    "tags": []
   },
   "outputs": [
    {
     "name": "stdout",
     "output_type": "stream",
     "text": [
      "The number is odd\n"
     ]
    }
   ],
   "source": [
    "# if-else statement:\n",
    "number = 45 \n",
    "if number % 2 == 0:\n",
    "    print(\"The Number is even\")\n",
    "else:\n",
    "    print(\"The number is odd\")"
   ]
  },
  {
   "cell_type": "code",
   "execution_count": 17,
   "id": "5a621200-ffbb-47b5-a3a4-32c209eafbe4",
   "metadata": {},
   "outputs": [
    {
     "name": "stdout",
     "output_type": "stream",
     "text": [
      "x is greater than 5 but not greater than 10\n"
     ]
    }
   ],
   "source": [
    "# if-elif-else Statement:\n",
    "x = 7\n",
    "\n",
    "if x > 10:\n",
    "    print(\"x is greater than 10\")\n",
    "elif x > 5:\n",
    "    print(\"x is greater than 5 but not greater than 10\")\n",
    "else:\n",
    "    print(\"x is not greater than 5\")"
   ]
  },
  {
   "cell_type": "markdown",
   "id": "e65e3897-b828-46ed-ba45-8e637ab4c0f3",
   "metadata": {},
   "source": [
    "##### 7. Describe different types of loops and their use cases in python with examples."
   ]
  },
  {
   "cell_type": "code",
   "execution_count": 19,
   "id": "26fb9bf7-4e51-41ee-a629-817d65061ad6",
   "metadata": {},
   "outputs": [
    {
     "name": "stdout",
     "output_type": "stream",
     "text": [
      "1 2 3 4 5 "
     ]
    }
   ],
   "source": [
    "# Python offers two primary types of loops:\n",
    "# 1. For Loop:\n",
    "# Use case: Iterating over a sequence (like a list, tuple, string, or range) and executing a block of code \n",
    "# for each item in the sequence.\n",
    "\n",
    "# Example:\n",
    "numbers = [1, 2, 3, 4, 5]\n",
    "\n",
    "for num in numbers:\n",
    "    print(num,end=\" \")"
   ]
  },
  {
   "cell_type": "code",
   "execution_count": 20,
   "id": "d220ff51-988d-4f44-b879-34bd174ce902",
   "metadata": {},
   "outputs": [
    {
     "name": "stdout",
     "output_type": "stream",
     "text": [
      "Count: 0\n",
      "Count: 1\n",
      "Count: 2\n",
      "Count: 3\n",
      "Count: 4\n"
     ]
    }
   ],
   "source": [
    "# 2. While Loop:\n",
    "# Use case: Repeating a block of code as long as a certain condition is true.\n",
    "\n",
    "# Example:\n",
    "count = 0\n",
    "\n",
    "while count < 5:\n",
    "    print(\"Count:\", count)\n",
    "    count += 1"
   ]
  },
  {
   "cell_type": "code",
   "execution_count": null,
   "id": "04331715-a4fd-454c-b03f-ede28674e577",
   "metadata": {},
   "outputs": [],
   "source": []
  }
 ],
 "metadata": {
  "kernelspec": {
   "display_name": "Python 3 (ipykernel)",
   "language": "python",
   "name": "python3"
  },
  "language_info": {
   "codemirror_mode": {
    "name": "ipython",
    "version": 3
   },
   "file_extension": ".py",
   "mimetype": "text/x-python",
   "name": "python",
   "nbconvert_exporter": "python",
   "pygments_lexer": "ipython3",
   "version": "3.10.8"
  }
 },
 "nbformat": 4,
 "nbformat_minor": 5
}
